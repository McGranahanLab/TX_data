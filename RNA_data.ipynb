{
 "cells": [
  {
   "cell_type": "code",
   "execution_count": null,
   "metadata": {},
   "outputs": [],
   "source": [
    "import pandas as pd\n",
    "import urllib.request\n",
    "import zipfile\n",
    "import rpy2.robjects as robjects\n",
    "from rpy2.robjects import pandas2ri\n",
    "    \n",
    "    \n",
    "def fst_to_pandas(file_path):\n",
    "    read_fst_code = \"\"\"\n",
    "                library(fst)\n",
    "                df=read_fst('FILE_PATH')\n",
    "                df\n",
    "                \"\"\".replace('FILE_PATH',file_path)\n",
    "    df = robjects.r(read_fst_code)\n",
    "    with (robjects.default_converter + pandas2ri.converter).context():\n",
    "        df = robjects.conversion.get_conversion().rpy2py(df)\n",
    "    return df\n",
    "\n",
    "\n",
    "def rda_to_pandas(file_path):\n",
    "    read_rda_code = \"\"\"\n",
    "                load('FILE_PATH')\n",
    "                mutTable\n",
    "                \"\"\".replace('FILE_PATH',file_path)\n",
    "    df = robjects.r(read_rda_code)\n",
    "    with (robjects.default_converter + pandas2ri.converter).context():\n",
    "        df = robjects.conversion.get_conversion().rpy2py(df)\n",
    "    return df\n",
    "\n",
    "\n",
    "def rds_to_pandas(file_path):\n",
    "    read_fst_code = \"\"\"\n",
    "                df=readRDS('FILE_PATH')\n",
    "                df\n",
    "                \"\"\".replace('FILE_PATH',file_path)\n",
    "    df = robjects.r(read_fst_code)\n",
    "    with (robjects.default_converter + pandas2ri.converter).context():\n",
    "        df = robjects.conversion.get_conversion().rpy2py(df)\n",
    "    return df"
   ]
  },
  {
   "cell_type": "code",
   "execution_count": null,
   "metadata": {},
   "outputs": [],
   "source": [
    "zenodo_primary_url='https://zenodo.org/records/7822002' # primary paper: https://pubmed.ncbi.nlm.nih.gov/37046096/\n",
    "zenodo_mets_url='https://zenodo.org/records/7649257' # mets paper: https://pubmed.ncbi.nlm.nih.gov/37046095/\n",
    "zenodo_transcriptomics_url='https://zenodo.org/records/7603386' # transcriptomics paper: https://pubmed.ncbi.nlm.nih.gov/37046093/\n",
    "\n",
    "'''\n",
    "Nomenclature:\n",
    "'Sample' (sometimes 'region') refers to a single biopsy or resection sample from a tumour. \n",
    "In TRACERx we typically have multiple samples from a single tumour and often mutliple tumours from single patient\n",
    "i.e. multiple samples from the primary site and then multiple samples from metastatic sites if patient has metastatic disease and we followed them up\n",
    "\n",
    "TRACERx naming convention:\n",
    "\n",
    "CRUK0001_SU_T1-R1\n",
    "<CRUKID>_<timepoint>_<site>_<region(sample)>\n",
    "BS\tBefore surgery\t\n",
    "SU\tSurgery\tprimary\t\n",
    "FU After Surgery/Adjuvant Chemo\t\n",
    "FR\tFirst Recurrence\n",
    "BR\tBiopsy After Recurrence\n",
    "BP\tBiopsy After Progression\t\n",
    "MR\tMetastasectomy After Recurrence\n",
    "BP\tBiopsy After First Progression\n",
    "TH\tTumour Harvest\t\t\n",
    "\n",
    "\n",
    "Region Codes\n",
    "Code\tTissueType\n",
    "T1-R1\tTumour 1 region 1\n",
    "T2-R1\tTumour 2 region 1\n",
    "T2-R2\tTumour 2 region 2\n",
    "T<A>-R<B>\tTumour <A> region <B>\n",
    "T1-N1\tTumour 1 normal region 1\n",
    "T2-N2\tTumour 2 normal region 2\n",
    "LN1\tLymph node 1\n",
    "LN2\tLymph node 2\n",
    "LN<x>\tLymph node <x>\n",
    "FT1\tFFPE Tumour 1\n",
    "FT2\tFFPE Tumour 2\n",
    "FT<x>\tFFPE Tumour <x>\n",
    "FLN1\tFFPE Lymph node 1\n",
    "FLN2\tFFPE Lymph node 2\n",
    "FLN<x>\tFFPE Lymph node <x>\n",
    "T1-FR1\tTumour 1 FFPE region 1\n",
    "T<A>-FR<B>\tTumour <A> FFPE region <B>\n",
    "'''"
   ]
  },
  {
   "cell_type": "code",
   "execution_count": null,
   "metadata": {},
   "outputs": [],
   "source": [
    "# download data:\n",
    "# primary data\n",
    "primary_code_url = 'https://zenodo.org/records/7822002/files/figurecode.zip'\n",
    "urllib.request.urlretrieve(primary_code_url, 'primary_figurecode.zip')\n",
    "# unzip\n",
    "with zipfile.ZipFile('primary_figurecode.zip', 'r') as zip_ref:\n",
    "    zip_ref.extractall('primary')\n",
    "# mets data\n",
    "mets_code_url = 'https://zenodo.org/records/7649257/files/metsFigures.zip'\n",
    "urllib.request.urlretrieve(mets_code_url, 'mets_figurecode.zip')\n",
    "# unzip\n",
    "with zipfile.ZipFile('mets_figurecode.zip', 'r') as zip_ref:\n",
    "    zip_ref.extractall('mets')\n",
    "# transciptomics data\n",
    "transcriptomics_code_url = 'https://zenodo.org/records/7603386/files/transcriptomics_scripts_data_20230330.zip'\n",
    "urllib.request.urlretrieve(transcriptomics_code_url, 'transcriptomics_figurecode.zip')\n",
    "# unzip\n",
    "with zipfile.ZipFile('transcriptomics_figurecode.zip', 'r') as zip_ref:\n",
    "    zip_ref.extractall('transcriptomics')\n",
    "    \n"
   ]
  },
  {
   "cell_type": "code",
   "execution_count": null,
   "metadata": {},
   "outputs": [],
   "source": [
    "# load mutation tables:\n",
    "mut_table_path_primary = 'primary/figurecode/data/20221109_TRACERx421_mutation_table.fst'\n",
    "mut_table_path_mets = 'mets/metsFigures/data/patientMutTable.20220726.rda'\n",
    "mut_table_primary = fst_to_pandas(mut_table_path_primary)\n",
    "mut_table_mets = rda_to_pandas(mut_table_path_mets)\n",
    "\n",
    "# this tables list each detected mutation. Using column 'Is.present' we can filter out mutations that detected only in some samples (subclonal mutations)\n",
    "# columns 'func' and 'exonic.func' tells you the type of mutation (e.g. missense, nonsense, etc)\n",
    "# there is also a column 'DriverMut' that tells you if the mutation is a known driver mutation\n",
    "# using DriverMut we keep only samples with driver mutations in KRAS:\n",
    "mut_table_KRAS_driver_primary = mut_table_primary[(mut_table_primary['Hugo_Symbol']=='KRAS') & (mut_table_primary['DriverMut'])]\n",
    "mut_table_KRAS_driver_mets = mut_table_mets[(mut_table_mets['Hugo_Symbol']=='KRAS') & (mut_table_mets['DriverMut'])]\n"
   ]
  },
  {
   "cell_type": "code",
   "execution_count": null,
   "metadata": {},
   "outputs": [],
   "source": [
    "# get clinical and  histological data:\n",
    "\n",
    "clinical_data_path_primary = 'primary/figurecode/data/20221109_TRACERx421_all_tumour_df.rds'\n",
    "clinical_data_primary = rds_to_pandas(clinical_data_path_primary)\n",
    "# a few rare patients had multiple primary tumours, hence why we have tumour_id_muttable_cruk and cruk_id columns (e.g. CRUK0881)\n",
    "# and corresponding patient_id and tumour_id columns in mutation tables\n",
    "# for most patients these are the same"
   ]
  },
  {
   "cell_type": "code",
   "execution_count": null,
   "metadata": {},
   "outputs": [],
   "source": [
    "histology = clinical_data_primary[['tumour_id_muttable_cruk','histology_3','Histology_per_tumour_id_muttable']] # keep only relevant columns; histology_3 is the simplified histology classification\n",
    "histology"
   ]
  },
  {
   "cell_type": "code",
   "execution_count": null,
   "metadata": {},
   "outputs": [],
   "source": [
    "\n",
    "# open expression matrix:\n",
    "# read_counts\n",
    "em_path = 'transcriptomics/transcriptomics_scripts_data_updated/20221014_transcriptomic_DATA/2022-10-17_rsem_counts_mat.fst'\n",
    "# or tpm:\n",
    "# em_path = 'transcriptomics/transcriptomics_scripts_data_updated/20221014_transcriptomic_DATA/2022-10-17_rsem_tpm_mat.fst'\n",
    "em = fst_to_pandas(em_path)\n",
    "em.set_index('gene_id', inplace=True)\n",
    "em"
   ]
  },
  {
   "cell_type": "code",
   "execution_count": null,
   "metadata": {},
   "outputs": [],
   "source": [
    "# keep only patients with KRAS mutation\n",
    "primary_KRAS_mut = mut_table_KRAS_driver_primary['patient_id']\n",
    "primary_KRAS_mut_em = em[[x for x in em.columns if len([y for y in primary_KRAS_mut if y in x])>0]]\n",
    "mets_KRAS_mut = mut_table_KRAS_driver_mets['patient_id']\n",
    "mets_KRAS_mut_em = em[[x for x in em.columns if len([y for y in mets_KRAS_mut if y in x])>0]]\n",
    "# keep only mets LUAD patients:\n",
    "LUAD_patients = clinical_data_primary[clinical_data_primary['histology_3']=='LUAD']['cruk_id'] \n",
    "LUAD_mets_KRAS_mut_em = mets_KRAS_mut_em[[x for x in mets_KRAS_mut_em.columns if len([y for y in LUAD_patients if y in x])>0]]"
   ]
  },
  {
   "cell_type": "code",
   "execution_count": null,
   "metadata": {},
   "outputs": [],
   "source": [
    "LUAD_mets_KRAS_mut_em"
   ]
  },
  {
   "cell_type": "code",
   "execution_count": null,
   "metadata": {},
   "outputs": [],
   "source": [
    "# count patients:\n",
    "len(set([x.split('_')[0] for x in LUAD_mets_KRAS_mut_em.columns]))\n"
   ]
  }
 ],
 "metadata": {
  "kernelspec": {
   "display_name": "alpaca",
   "language": "python",
   "name": "python3"
  },
  "language_info": {
   "codemirror_mode": {
    "name": "ipython",
    "version": 3
   },
   "file_extension": ".py",
   "mimetype": "text/x-python",
   "name": "python",
   "nbconvert_exporter": "python",
   "pygments_lexer": "ipython3",
   "version": "3.9.13"
  }
 },
 "nbformat": 4,
 "nbformat_minor": 2
}
